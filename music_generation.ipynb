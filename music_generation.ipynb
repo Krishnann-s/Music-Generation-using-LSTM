{
  "cells": [
    {
      "cell_type": "code",
      "execution_count": 1,
      "metadata": {
        "colab": {
          "base_uri": "https://localhost:8080/"
        },
        "id": "han0fH0pfWZ2",
        "outputId": "22c4a137-b644-4de8-f65e-c9c9ac23687e"
      },
      "outputs": [
        {
          "name": "stdout",
          "output_type": "stream",
          "text": [
            "Collecting glob2\n",
            "  Downloading glob2-0.7.tar.gz (10 kB)\n",
            "  Preparing metadata (setup.py): started\n",
            "  Preparing metadata (setup.py): finished with status 'done'\n",
            "Building wheels for collected packages: glob2\n",
            "  Building wheel for glob2 (setup.py): started\n",
            "  Building wheel for glob2 (setup.py): finished with status 'done'\n",
            "  Created wheel for glob2: filename=glob2-0.7-py2.py3-none-any.whl size=9311 sha256=3945315363be4735d391694bde1f41fd5b727389c9fe12de488caf82dd08e7e6\n",
            "  Stored in directory: c:\\users\\kiran\\appdata\\local\\pip\\cache\\wheels\\96\\41\\06\\9f8fddc6eb1d75bde63db7f491311a4ae26905212617e06eb2\n",
            "Successfully built glob2\n",
            "Installing collected packages: glob2\n",
            "Successfully installed glob2-0.7\n"
          ]
        }
      ],
      "source": [
        "!pip install glob2"
      ]
    },
    {
      "cell_type": "code",
      "execution_count": 2,
      "metadata": {},
      "outputs": [
        {
          "name": "stdout",
          "output_type": "stream",
          "text": [
            "Collecting music21\n",
            "  Using cached music21-9.1.0-py3-none-any.whl.metadata (4.8 kB)\n",
            "Requirement already satisfied: chardet in c:\\users\\kiran\\appdata\\roaming\\python\\python311\\site-packages (from music21) (3.0.4)\n",
            "Requirement already satisfied: joblib in c:\\users\\kiran\\appdata\\roaming\\python\\python311\\site-packages (from music21) (1.3.2)\n",
            "Collecting jsonpickle (from music21)\n",
            "  Downloading jsonpickle-3.0.4-py3-none-any.whl.metadata (2.6 kB)\n",
            "Requirement already satisfied: matplotlib in c:\\users\\kiran\\appdata\\roaming\\python\\python311\\site-packages (from music21) (3.8.2)\n",
            "Requirement already satisfied: more-itertools in c:\\users\\kiran\\appdata\\roaming\\python\\python311\\site-packages (from music21) (10.1.0)\n",
            "Requirement already satisfied: numpy in c:\\users\\kiran\\appdata\\roaming\\python\\python311\\site-packages (from music21) (1.23.5)\n",
            "Requirement already satisfied: requests in c:\\users\\kiran\\anaconda3\\lib\\site-packages (from music21) (2.31.0)\n",
            "Collecting webcolors>=1.5 (from music21)\n",
            "  Using cached webcolors-1.13-py3-none-any.whl.metadata (2.6 kB)\n",
            "Requirement already satisfied: contourpy>=1.0.1 in c:\\users\\kiran\\appdata\\roaming\\python\\python311\\site-packages (from matplotlib->music21) (1.0.7)\n",
            "Requirement already satisfied: cycler>=0.10 in c:\\users\\kiran\\appdata\\roaming\\python\\python311\\site-packages (from matplotlib->music21) (0.11.0)\n",
            "Requirement already satisfied: fonttools>=4.22.0 in c:\\users\\kiran\\appdata\\roaming\\python\\python311\\site-packages (from matplotlib->music21) (4.46.0)\n",
            "Requirement already satisfied: kiwisolver>=1.3.1 in c:\\users\\kiran\\appdata\\roaming\\python\\python311\\site-packages (from matplotlib->music21) (1.4.5)\n",
            "Requirement already satisfied: packaging>=20.0 in c:\\users\\kiran\\appdata\\roaming\\python\\python311\\site-packages (from matplotlib->music21) (23.2)\n",
            "Requirement already satisfied: pillow>=8 in c:\\users\\kiran\\appdata\\roaming\\python\\python311\\site-packages (from matplotlib->music21) (10.1.0)\n",
            "Requirement already satisfied: pyparsing>=2.3.1 in c:\\users\\kiran\\appdata\\roaming\\python\\python311\\site-packages (from matplotlib->music21) (3.1.1)\n",
            "Requirement already satisfied: python-dateutil>=2.7 in c:\\users\\kiran\\anaconda3\\lib\\site-packages (from matplotlib->music21) (2.8.2)\n",
            "Requirement already satisfied: charset-normalizer<4,>=2 in c:\\users\\kiran\\appdata\\roaming\\python\\python311\\site-packages (from requests->music21) (2.0.12)\n",
            "Requirement already satisfied: idna<4,>=2.5 in c:\\users\\kiran\\appdata\\roaming\\python\\python311\\site-packages (from requests->music21) (2.8)\n",
            "Requirement already satisfied: urllib3<3,>=1.21.1 in c:\\users\\kiran\\appdata\\roaming\\python\\python311\\site-packages (from requests->music21) (1.25.11)\n",
            "Requirement already satisfied: certifi>=2017.4.17 in c:\\users\\kiran\\appdata\\roaming\\python\\python311\\site-packages (from requests->music21) (2023.11.17)\n",
            "Requirement already satisfied: six>=1.5 in c:\\users\\kiran\\appdata\\roaming\\python\\python311\\site-packages (from python-dateutil>=2.7->matplotlib->music21) (1.16.0)\n",
            "Using cached music21-9.1.0-py3-none-any.whl (22.8 MB)\n",
            "Using cached webcolors-1.13-py3-none-any.whl (14 kB)\n",
            "Downloading jsonpickle-3.0.4-py3-none-any.whl (39 kB)\n",
            "Installing collected packages: webcolors, jsonpickle, music21\n",
            "Successfully installed jsonpickle-3.0.4 music21-9.1.0 webcolors-1.13\n"
          ]
        }
      ],
      "source": [
        "!pip install music21"
      ]
    },
    {
      "cell_type": "code",
      "execution_count": 3,
      "metadata": {
        "id": "aBChQHoTfY9m"
      },
      "outputs": [],
      "source": [
        "import glob2\n",
        "import music21"
      ]
    },
    {
      "cell_type": "code",
      "execution_count": 4,
      "metadata": {
        "id": "SuEIT37wdf0p"
      },
      "outputs": [
        {
          "name": "stdout",
          "output_type": "stream",
          "text": [
            "WARNING:tensorflow:From C:\\Users\\kiran\\AppData\\Roaming\\Python\\Python311\\site-packages\\keras\\src\\losses.py:2976: The name tf.losses.sparse_softmax_cross_entropy is deprecated. Please use tf.compat.v1.losses.sparse_softmax_cross_entropy instead.\n",
            "\n"
          ]
        }
      ],
      "source": [
        "import numpy as np\n",
        "import tensorflow as tf\n",
        "from keras.models import Sequential\n",
        "from keras.layers import LSTM, Dense\n",
        "from music21 import converter, instrument, note, chord\n",
        "import matplotlib.pyplot as plt\n",
        "from sklearn.model_selection import train_test_split\n",
        "from music21 import stream"
      ]
    },
    {
      "cell_type": "code",
      "execution_count": 19,
      "metadata": {
        "id": "hGIlMJS9dnxG"
      },
      "outputs": [],
      "source": [
        "# Load and preprocess MIDI data\n",
        "def get_notes():\n",
        "    notes = []\n",
        "    for file in glob2.glob(\"musicdata/*.mid\"):\n",
        "        try:\n",
        "            print(\"Parsing MIDI file:\", file)\n",
        "            midi = converter.parse(file)\n",
        "            notes_to_parse = None\n",
        "            parts = instrument.partitionByInstrument(midi)\n",
        "            if parts:\n",
        "                notes_to_parse = parts.parts[0].recurse()\n",
        "            else:\n",
        "                notes_to_parse = midi.flat.notes\n",
        "            for element in notes_to_parse:\n",
        "                if isinstance(element, note.Note):\n",
        "                    notes.append(str(element.pitch))\n",
        "                elif isinstance(element, chord.Chord):\n",
        "                    notes.append('.'.join(str(n) for n in element.normalOrder))\n",
        "        except Exception as e:\n",
        "            print(\"Error parsing MIDI file:\", file)\n",
        "            print(\"Exception:\", e)\n",
        "    return notes\n"
      ]
    },
    {
      "cell_type": "code",
      "execution_count": 20,
      "metadata": {
        "id": "r6xwgjindr4Z"
      },
      "outputs": [],
      "source": [
        "# Prepare sequences for training\n",
        "def prepare_sequences(notes, sequence_length):\n",
        "    sequence_input = []\n",
        "    sequence_output = []\n",
        "    pitch_names = sorted(set(notes))\n",
        "    note_to_int = dict((note, number) for number, note in enumerate(pitch_names))\n",
        "    for i in range(0, len(notes) - sequence_length, 1):\n",
        "        input_sequence = notes[i:i + sequence_length]\n",
        "        output_sequence = notes[i + sequence_length]\n",
        "        sequence_input.append([note_to_int[char] for char in input_sequence])\n",
        "        sequence_output.append(note_to_int[output_sequence])\n",
        "    n_patterns = len(sequence_input)\n",
        "    sequence_input = np.reshape(sequence_input, (n_patterns, sequence_length, 1))\n",
        "    sequence_input = sequence_input / float(len(pitch_names))\n",
        "    sequence_output = tf.keras.utils.to_categorical(sequence_output)\n",
        "    return sequence_input, sequence_output\n"
      ]
    },
    {
      "cell_type": "code",
      "execution_count": 21,
      "metadata": {
        "id": "MgVLtyWtdu6W"
      },
      "outputs": [],
      "source": [
        "# Define LSTM model\n",
        "def create_model(input_shape, output_shape):\n",
        "    model = Sequential()\n",
        "    model.add(LSTM(256, input_shape=input_shape, return_sequences=True))\n",
        "    model.add(LSTM(256))\n",
        "    model.add(Dense(output_shape, activation='softmax'))\n",
        "    model.compile(loss='categorical_crossentropy', optimizer='adam')\n",
        "    return model\n"
      ]
    },
    {
      "cell_type": "code",
      "execution_count": 22,
      "metadata": {
        "id": "86YbDFhJs78L"
      },
      "outputs": [],
      "source": [
        "# Train the model\n",
        "def train_model(model, sequence_input, sequence_output, epochs=1, batch_size=64):\n",
        "    model.fit(sequence_input, sequence_output, epochs=epochs, batch_size=batch_size)\n"
      ]
    },
    {
      "cell_type": "code",
      "execution_count": 23,
      "metadata": {
        "id": "LPOUpyTYdzLs"
      },
      "outputs": [],
      "source": [
        "# Generate music using the trained model\n",
        "def generate_music(model, pitch_names, sequence_length, seed_notes, num_notes):\n",
        "    int_to_note = dict((number, note) for number, note in enumerate(pitch_names))\n",
        "    pattern = seed_notes.tolist()  # Convert NumPy array to list\n",
        "    generated_notes = []\n",
        "    for i in range(num_notes):\n",
        "        prediction_input = np.reshape(pattern, (1, len(pattern), 1))\n",
        "        prediction_input = prediction_input / float(len(pitch_names))\n",
        "        prediction = model.predict(prediction_input, verbose=0)\n",
        "        index = np.argmax(prediction)\n",
        "        result = int_to_note[index]\n",
        "        generated_notes.append(result)\n",
        "        pattern.append(index)\n",
        "        pattern = pattern[1:len(pattern)]\n",
        "    return generated_notes"
      ]
    },
    {
      "cell_type": "code",
      "execution_count": 24,
      "metadata": {
        "id": "A-X2pP0VtIZN"
      },
      "outputs": [],
      "source": [
        "# Visualize generated music\n",
        "def visualize_music(generated_notes):\n",
        "    offset = 0\n",
        "    output_notes = []\n",
        "    for pattern in generated_notes:\n",
        "        # If pattern is a chord\n",
        "        if ('.' in pattern) or pattern.isdigit():\n",
        "            notes_in_chord = pattern.split('.')\n",
        "            notes = []\n",
        "            for current_note in notes_in_chord:\n",
        "                new_note = note.Note(int(current_note))\n",
        "                new_note.storedInstrument = instrument.Piano()\n",
        "                notes.append(new_note)\n",
        "            new_chord = chord.Chord(notes)\n",
        "            new_chord.offset = offset\n",
        "            output_notes.append(new_chord)\n",
        "        # If pattern is a note\n",
        "        else:\n",
        "            new_note = note.Note(pattern)\n",
        "            new_note.offset = offset\n",
        "            new_note.storedInstrument = instrument.Piano()\n",
        "            output_notes.append(new_note)\n",
        "        # Increase offset each iteration so that notes do not stack\n",
        "        offset += 0.5\n",
        "\n",
        "\n",
        "    # Create and save MIDI file\n",
        "    midi_stream = stream.Stream(output_notes)\n",
        "    midi_stream.write('midi', fp='generated_music.mid')\n",
        "\n",
        "    # Show the generated music as a piano roll\n",
        "    midi_stream.plot('pianoroll')"
      ]
    },
    {
      "cell_type": "code",
      "execution_count": 25,
      "metadata": {
        "colab": {
          "base_uri": "https://localhost:8080/",
          "height": 921
        },
        "id": "TOumNtXud2IE",
        "outputId": "48e47153-99ac-431a-814f-23390ab1aad5"
      },
      "outputs": [
        {
          "name": "stdout",
          "output_type": "stream",
          "text": [
            "Parsing MIDI file: E:/Music_generation/musicdata\\Adana.mid\n",
            "Parsing MIDI file: E:/Music_generation/musicdata\\Alhiya Bilawal.mid\n",
            "Parsing MIDI file: E:/Music_generation/musicdata\\Bageshri.mid\n",
            "Parsing MIDI file: E:/Music_generation/musicdata\\Bahar.mid\n",
            "Parsing MIDI file: E:/Music_generation/musicdata\\bazigar.mid\n",
            "Parsing MIDI file: E:/Music_generation/musicdata\\Behag.mid\n",
            "Parsing MIDI file: E:/Music_generation/musicdata\\Bhairav.mid\n",
            "Parsing MIDI file: E:/Music_generation/musicdata\\Chandra Kauns.mid\n",
            "Parsing MIDI file: E:/Music_generation/musicdata\\DawnOfLove.mid\n",
            "Parsing MIDI file: E:/Music_generation/musicdata\\Des.mid\n",
            "Parsing MIDI file: E:/Music_generation/musicdata\\Durga.mid\n",
            "Parsing MIDI file: E:/Music_generation/musicdata\\Gaud.mid\n",
            "Parsing MIDI file: E:/Music_generation/musicdata\\JaunaPuri.mid\n",
            "Parsing MIDI file: E:/Music_generation/musicdata\\Miaki.mid\n",
            "Parsing MIDI file: E:/Music_generation/musicdata\\Miyan ki Malhar.mid\n",
            "Parsing MIDI file: E:/Music_generation/musicdata\\Pahadi.mid\n",
            "Parsing MIDI file: E:/Music_generation/musicdata\\Peelu.mid\n",
            "Parsing MIDI file: E:/Music_generation/musicdata\\Purvi.mid\n",
            "Parsing MIDI file: E:/Music_generation/musicdata\\Tilak Kamode.mid\n",
            "Parsing MIDI file: E:/Music_generation/musicdata\\Tilang.mid\n",
            "WARNING:tensorflow:From C:\\Users\\kiran\\AppData\\Roaming\\Python\\Python311\\site-packages\\keras\\src\\backend.py:873: The name tf.get_default_graph is deprecated. Please use tf.compat.v1.get_default_graph instead.\n",
            "\n",
            "WARNING:tensorflow:From C:\\Users\\kiran\\AppData\\Roaming\\Python\\Python311\\site-packages\\keras\\src\\optimizers\\__init__.py:309: The name tf.train.Optimizer is deprecated. Please use tf.compat.v1.train.Optimizer instead.\n",
            "\n",
            "WARNING:tensorflow:From C:\\Users\\kiran\\AppData\\Roaming\\Python\\Python311\\site-packages\\keras\\src\\utils\\tf_utils.py:492: The name tf.ragged.RaggedTensorValue is deprecated. Please use tf.compat.v1.ragged.RaggedTensorValue instead.\n",
            "\n",
            "187/187 [==============================] - 77s 381ms/step - loss: 3.8820\n"
          ]
        },
        {
          "data": {
            "image/png": "[encoded data removed]",
            "text/plain": [
              "<Figure size 1000x600 with 1 Axes>"
            ]
          },
          "metadata": {
            "image/png": {
              "height": 540,
              "width": 817
            }
          },
          "output_type": "display_data"
        }
      ],
      "source": [
        "# Main function\n",
        "if __name__ == '__main__':\n",
        "    # Load and preprocess MIDI data\n",
        "    notes = get_notes()\n",
        "    sequence_length = 100\n",
        "    sequence_input, sequence_output = prepare_sequences(notes, sequence_length)\n",
        "    input_shape = (sequence_input.shape[1], sequence_input.shape[2])\n",
        "    output_shape = sequence_output.shape[1]\n",
        "\n",
        "    # Create and train the model\n",
        "    model = create_model(input_shape, output_shape)\n",
        "    train_model(model, sequence_input, sequence_output)\n",
        "\n",
        "    # Generate seed notes for music generation\n",
        "    random_index = np.random.randint(0, len(sequence_input)-1)\n",
        "    seed_notes = sequence_input[random_index, :, :].flatten()\n",
        "\n",
        "    # Generate music\n",
        "    generated_notes = generate_music(model, sorted(set(notes)), sequence_length, seed_notes, num_notes=500)\n",
        "\n",
        "    # Visualize and play generated music\n",
        "    visualize_music(generated_notes)\n"
      ]
    }
  ],
  "metadata": {
    "colab": {
      "include_colab_link": true,
      "name": "Welcome To Colab",
      "provenance": []
    },
    "kernelspec": {
      "display_name": "Python 3",
      "name": "python3"
    },
    "language_info": {
      "codemirror_mode": {
        "name": "ipython",
        "version": 3
      },
      "file_extension": ".py",
      "mimetype": "text/x-python",
      "name": "python",
      "nbconvert_exporter": "python",
      "pygments_lexer": "ipython3",
      "version": "3.11.5"
    }
  },
  "nbformat": 4,
  "nbformat_minor": 0
}
